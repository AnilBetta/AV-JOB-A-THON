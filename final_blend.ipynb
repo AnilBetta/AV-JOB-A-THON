{
 "cells": [
  {
   "cell_type": "code",
   "execution_count": 1,
   "metadata": {
    "_cell_guid": "b1076dfc-b9ad-4769-8c92-a6c4dae69d19",
    "_uuid": "8f2839f25d086af736a60e9eeb907d3b93b6e0e5",
    "execution": {
     "iopub.execute_input": "2021-02-28T14:11:59.090115Z",
     "iopub.status.busy": "2021-02-28T14:11:59.089240Z",
     "iopub.status.idle": "2021-02-28T14:12:00.149153Z",
     "shell.execute_reply": "2021-02-28T14:12:00.149756Z"
    },
    "papermill": {
     "duration": 1.068936,
     "end_time": "2021-02-28T14:12:00.150060",
     "exception": false,
     "start_time": "2021-02-28T14:11:59.081124",
     "status": "completed"
    },
    "tags": []
   },
   "outputs": [
    {
     "data": {
      "text/html": [
       "<style type='text/css'>\n",
       ".datatable table.frame { margin-bottom: 0; }\n",
       ".datatable table.frame thead { border-bottom: none; }\n",
       ".datatable table.frame tr.coltypes td {  color: #FFFFFF;  line-height: 6px;  padding: 0 0.5em;}\n",
       ".datatable .bool    { background: #DDDD99; }\n",
       ".datatable .object  { background: #565656; }\n",
       ".datatable .int     { background: #5D9E5D; }\n",
       ".datatable .float   { background: #4040CC; }\n",
       ".datatable .str     { background: #CC4040; }\n",
       ".datatable .row_index {  background: var(--jp-border-color3);  border-right: 1px solid var(--jp-border-color0);  color: var(--jp-ui-font-color3);  font-size: 9px;}\n",
       ".datatable .frame tr.coltypes .row_index {  background: var(--jp-border-color0);}\n",
       ".datatable th:nth-child(2) { padding-left: 12px; }\n",
       ".datatable .hellipsis {  color: var(--jp-cell-editor-border-color);}\n",
       ".datatable .vellipsis {  background: var(--jp-layout-color0);  color: var(--jp-cell-editor-border-color);}\n",
       ".datatable .na {  color: var(--jp-cell-editor-border-color);  font-size: 80%;}\n",
       ".datatable .footer { font-size: 9px; }\n",
       ".datatable .frame_dimensions {  background: var(--jp-border-color3);  border-top: 1px solid var(--jp-border-color0);  color: var(--jp-ui-font-color3);  display: inline-block;  opacity: 0.6;  padding: 1px 10px 1px 5px;}\n",
       "</style>\n"
      ],
      "text/plain": [
       "<IPython.core.display.HTML object>"
      ]
     },
     "metadata": {},
     "output_type": "display_data"
    }
   ],
   "source": [
    "import numpy as np\n",
    "import pandas as pd\n",
    "from lightgbm import LGBMClassifier\n",
    "from sklearn.model_selection import StratifiedKFold\n",
    "from sklearn.metrics import roc_auc_score"
   ]
  },
  {
   "cell_type": "code",
   "execution_count": 2,
   "metadata": {
    "execution": {
     "iopub.execute_input": "2021-02-28T14:12:00.162064Z",
     "iopub.status.busy": "2021-02-28T14:12:00.161508Z",
     "iopub.status.idle": "2021-02-28T14:12:00.169695Z",
     "shell.execute_reply": "2021-02-28T14:12:00.169156Z"
    },
    "papermill": {
     "duration": 0.014605,
     "end_time": "2021-02-28T14:12:00.169840",
     "exception": false,
     "start_time": "2021-02-28T14:12:00.155235",
     "status": "completed"
    },
    "tags": []
   },
   "outputs": [],
   "source": [
    "def process_data(DATA_DIR):\n",
    "    \n",
    "    train = pd.read_csv(DATA_DIR+\"train_Df64byy.csv\")\n",
    "    test = pd.read_csv(DATA_DIR+\"test_YCcRUnU.csv\")\n",
    "    sub= pd.read_csv(DATA_DIR+\"sample_submission_QrCyCoT.csv\")\n",
    "    \n",
    "    test_region_list=test['Region_Code'].tolist()\n",
    "    train=train[train['Region_Code'].isin(test_region_list)]\n",
    "    \n",
    "    target=train[['Response']]\n",
    "    \n",
    "    lgbmpred = pd.read_csv(DATA_DIR+'lgbmpred.csv')\n",
    "    xgbpred = pd.read_csv(DATA_DIR+'xgbmpred.csv')\n",
    "    catboostpred = pd.read_csv(DATA_DIR+'catboostpred.csv')\n",
    "    \n",
    "    total_pred = pd.concat([lgbmpred,xgbpred,catboostpred], axis=1)\n",
    "    \n",
    "    lgbmoof = pd.read_csv(DATA_DIR+'lgbmoof.csv')\n",
    "    xgboof = pd.read_csv(DATA_DIR+'xgbmoof.csv')\n",
    "    catboostoof = pd.read_csv(DATA_DIR+'catboostoof.csv')\n",
    "    \n",
    "    total_oof = pd.concat([lgbmoof,xgboof,catboostoof], axis=1)\n",
    "    \n",
    "    \n",
    "    return train,target,sub,test,total_pred,total_oof"
   ]
  },
  {
   "cell_type": "code",
   "execution_count": 3,
   "metadata": {
    "execution": {
     "iopub.execute_input": "2021-02-28T14:12:00.184265Z",
     "iopub.status.busy": "2021-02-28T14:12:00.183674Z",
     "iopub.status.idle": "2021-02-28T14:12:00.186087Z",
     "shell.execute_reply": "2021-02-28T14:12:00.185525Z"
    },
    "papermill": {
     "duration": 0.012011,
     "end_time": "2021-02-28T14:12:00.186223",
     "exception": false,
     "start_time": "2021-02-28T14:12:00.174212",
     "status": "completed"
    },
    "tags": []
   },
   "outputs": [],
   "source": [
    "def findbestweight(df1,df2,target):\n",
    "    max_roc = -1\n",
    "    max_weight = 0\n",
    "    max_ensemble_oof  = 0\n",
    "    weights_list = [0.0, 0.05, 0.1, 0.15, 0.2, 0.25, 0.3, 0.35, 0.4, 0.45, 0.5, 0.55, 0.6, 0.65, 0.7, 0.75, 0.8, 0.85, 0.9, 0.95, 1.0]\n",
    "    for weight in weights_list:\n",
    "        ensemble_oof = weight*df1 + (1-weight)*df2\n",
    "        roc_score = roc_auc_score(target,ensemble_oof)\n",
    "        if roc_score > max_roc:\n",
    "            max_ensemble_oof = ensemble_oof\n",
    "            max_roc = roc_score\n",
    "            max_weight = weight\n",
    "    print(\"The best weights for blending is {0} with AUC {1}\".format(max_weight, max_roc))\n",
    "    return max_weight"
   ]
  },
  {
   "cell_type": "code",
   "execution_count": 4,
   "metadata": {
    "execution": {
     "iopub.execute_input": "2021-02-28T14:12:00.200806Z",
     "iopub.status.busy": "2021-02-28T14:12:00.200238Z",
     "iopub.status.idle": "2021-02-28T14:12:00.202793Z",
     "shell.execute_reply": "2021-02-28T14:12:00.203271Z"
    },
    "papermill": {
     "duration": 0.012754,
     "end_time": "2021-02-28T14:12:00.203409",
     "exception": false,
     "start_time": "2021-02-28T14:12:00.190655",
     "status": "completed"
    },
    "tags": []
   },
   "outputs": [],
   "source": [
    "def blend():\n",
    "    train,target,sub,test,total_pred,total_oof=process_data('../input/analytics-vidhya-jobathon/')\n",
    "    weight1=findbestweight(total_oof['lgbmoof'],total_oof['xgboof'],target)\n",
    "    lgb_xgb=weight1*total_oof['lgbmoof'] +(1-weight1)*total_oof['xgboof']\n",
    "    \n",
    "    weight2=findbestweight(lgb_xgb,total_oof['catboostoof'],target)\n",
    "    lgb_xgb_cat=weight2*lgb_xgb +(1-weight2)*total_oof['catboostoof']\n",
    "    \n",
    "    lgb_xgb_cat_pred=(weight1*total_pred['lgbmpred']+(1-weight1)*total_pred['xgbpred'])*weight2+total_pred['catboostpred']*(1-weight2)\n",
    "    \n",
    "    sub['Response']=lgb_xgb_cat_pred\n",
    "    sub.to_csv('blend.csv',index=False)\n",
    "    print(sub)"
   ]
  },
  {
   "cell_type": "code",
   "execution_count": 5,
   "metadata": {
    "execution": {
     "iopub.execute_input": "2021-02-28T14:12:00.214647Z",
     "iopub.status.busy": "2021-02-28T14:12:00.214124Z",
     "iopub.status.idle": "2021-02-28T14:12:01.358475Z",
     "shell.execute_reply": "2021-02-28T14:12:01.357655Z"
    },
    "papermill": {
     "duration": 1.150788,
     "end_time": "2021-02-28T14:12:01.358674",
     "exception": false,
     "start_time": "2021-02-28T14:12:00.207886",
     "status": "completed"
    },
    "tags": []
   },
   "outputs": [
    {
     "name": "stdout",
     "output_type": "stream",
     "text": [
      "The best weights for blending is 0.35 with AUC 0.8149650228319271\n",
      "The best weights for blending is 0.5 with AUC 0.8165625930636655\n",
      "          ID  Response\n",
      "0      50883  0.074813\n",
      "1      50884  0.130485\n",
      "2      50885  0.483409\n",
      "3      50886  0.112096\n",
      "4      50887  0.046517\n",
      "...      ...       ...\n",
      "21800  72683  0.050429\n",
      "21801  72684  0.100663\n",
      "21802  72685  0.016565\n",
      "21803  72686  0.564595\n",
      "21804  72687  0.168962\n",
      "\n",
      "[21805 rows x 2 columns]\n"
     ]
    }
   ],
   "source": [
    "blend()"
   ]
  },
  {
   "cell_type": "code",
   "execution_count": null,
   "metadata": {
    "papermill": {
     "duration": 0.004816,
     "end_time": "2021-02-28T14:12:01.369773",
     "exception": false,
     "start_time": "2021-02-28T14:12:01.364957",
     "status": "completed"
    },
    "tags": []
   },
   "outputs": [],
   "source": []
  }
 ],
 "metadata": {
  "kernelspec": {
   "display_name": "Python 3",
   "language": "python",
   "name": "python3"
  },
  "language_info": {
   "codemirror_mode": {
    "name": "ipython",
    "version": 3
   },
   "file_extension": ".py",
   "mimetype": "text/x-python",
   "name": "python",
   "nbconvert_exporter": "python",
   "pygments_lexer": "ipython3",
   "version": "3.7.9"
  },
  "papermill": {
   "default_parameters": {},
   "duration": 7.536887,
   "end_time": "2021-02-28T14:12:01.882176",
   "environment_variables": {},
   "exception": null,
   "input_path": "__notebook__.ipynb",
   "output_path": "__notebook__.ipynb",
   "parameters": {},
   "start_time": "2021-02-28T14:11:54.345289",
   "version": "2.2.2"
  }
 },
 "nbformat": 4,
 "nbformat_minor": 4
}
